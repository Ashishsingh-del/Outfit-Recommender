{
  "nbformat": 4,
  "nbformat_minor": 0,
  "metadata": {
    "colab": {
      "provenance": [],
      "authorship_tag": "ABX9TyOugMx7Rty1Iq+5gD5c2icz",
      "include_colab_link": true
    },
    "kernelspec": {
      "name": "python3",
      "display_name": "Python 3"
    },
    "language_info": {
      "name": "python"
    }
  },
  "cells": [
    {
      "cell_type": "markdown",
      "metadata": {
        "id": "view-in-github",
        "colab_type": "text"
      },
      "source": [
        "<a href=\"https://colab.research.google.com/github/Ashishsingh-del/Outfit-Recommender/blob/main/Untitled3.ipynb\" target=\"_parent\"><img src=\"https://colab.research.google.com/assets/colab-badge.svg\" alt=\"Open In Colab\"/></a>"
      ]
    },
    {
      "cell_type": "code",
      "execution_count": 1,
      "metadata": {
        "colab": {
          "base_uri": "https://localhost:8080/"
        },
        "id": "7rF197y1i0xh",
        "outputId": "4d7939c0-e64b-4bf9-f66f-8405b15bc5e0"
      },
      "outputs": [
        {
          "output_type": "stream",
          "name": "stdout",
          "text": [
            "5\n"
          ]
        }
      ],
      "source": [
        "a=2\n",
        "b=3\n",
        "print(a+b)"
      ]
    },
    {
      "cell_type": "code",
      "source": [
        "print(\"enter a no\")\n",
        "n = int(input())\n",
        "\n",
        "if n < 0:\n",
        "  n = n * -1\n",
        "\n",
        "s = 0\n",
        "while n > 0:\n",
        "  d = n % 10\n",
        "  s = s + d\n",
        "  n = n // 10\n",
        "print(\"sum of digits:\", s)"
      ],
      "metadata": {
        "colab": {
          "base_uri": "https://localhost:8080/"
        },
        "id": "stU9WrTPjFa6",
        "outputId": "a732b619-59b0-4544-c073-6f025074b4fa"
      },
      "execution_count": 2,
      "outputs": [
        {
          "output_type": "stream",
          "name": "stdout",
          "text": [
            "enter a no\n",
            "233\n",
            "sum of digits: 8\n"
          ]
        }
      ]
    }
  ]
}